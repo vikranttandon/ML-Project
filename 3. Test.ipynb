{
 "cells": [
  {
   "cell_type": "code",
   "execution_count": 1,
   "id": "north-jumping",
   "metadata": {},
   "outputs": [],
   "source": [
    "import cv2"
   ]
  },
  {
   "cell_type": "code",
   "execution_count": 2,
   "id": "combined-scout",
   "metadata": {},
   "outputs": [],
   "source": [
    "import numpy as np\n",
    "import pandas as pd \n",
    "import os "
   ]
  },
  {
   "cell_type": "code",
   "execution_count": 3,
   "id": "collected-checklist",
   "metadata": {},
   "outputs": [],
   "source": [
    "def KNN(k,train,test,label):\n",
    "    \n",
    "    distances = []\n",
    "    cur_index = 0\n",
    "    for cur in train:\n",
    "        distances.append([euc_dist(test,cur),label[cur_index]])\n",
    "        cur_index += 1\n",
    "    \n",
    "    distances = sorted(distances,key = lambda dist: dist[0],reverse=False)\n",
    "    \n",
    "    distances = distances[:k]\n",
    "    distances = np.array(distances)\n",
    "    # Frequency of unique classes, the one with the greater number is the ans,\n",
    "    # k works better if odd (easier to choose).\n",
    "    \n",
    "    result = np.unique(distances[:,1],return_counts=True) # First column contains classes (hence for all rows 1st column) \n",
    "    # This comes to us in the sorted order of frequencies, hence we just need to return the last element \n",
    "    # result is in the form of [[values], [frequencies]]\n",
    "    return result[0][-1] # max frequencied class whose points are the clossest to the given point   "
   ]
  },
  {
   "cell_type": "code",
   "execution_count": 4,
   "id": "measured-columbus",
   "metadata": {},
   "outputs": [],
   "source": [
    "def euc_dist(A,B):\n",
    "    '''\n",
    "    Here, we receive 2 points A and B (as numpy arrays),\n",
    "    which may represent points marked over a n - dimensional plot.\n",
    "    i.e, A = (x_i, y_i, z_i,...,n_i) and B = (x_j, y_j, z_j,...,n_j). \n",
    "    \n",
    "    But here,\n",
    "    A = (x_i, y_i) and B = (x_j, y_j)\n",
    "    '''\n",
    "    return np.sqrt(sum((A-B)**2))"
   ]
  },
  {
   "cell_type": "code",
   "execution_count": 5,
   "id": "burning-hostel",
   "metadata": {},
   "outputs": [],
   "source": [
    "# Retrieval from database\n",
    "\n",
    "import mysql.connector as mc"
   ]
  },
  {
   "cell_type": "code",
   "execution_count": 6,
   "id": "designed-coast",
   "metadata": {},
   "outputs": [],
   "source": [
    "cnx = mc.connect(host = 'localhost', username = 'vikranttandon', password = '******')"
   ]
  },
  {
   "cell_type": "code",
   "execution_count": 7,
   "id": "piano-tumor",
   "metadata": {},
   "outputs": [],
   "source": [
    "cursor = cnx.cursor(buffered= True)"
   ]
  },
  {
   "cell_type": "code",
   "execution_count": 8,
   "id": "stuffed-carpet",
   "metadata": {},
   "outputs": [],
   "source": [
    "cursor.execute('use dataset;')"
   ]
  },
  {
   "cell_type": "code",
   "execution_count": 9,
   "id": "timely-mystery",
   "metadata": {},
   "outputs": [],
   "source": [
    "cursor.execute('select * from image_frames;')"
   ]
  },
  {
   "cell_type": "code",
   "execution_count": 10,
   "id": "closed-declaration",
   "metadata": {},
   "outputs": [],
   "source": [
    "all_images = cursor.fetchall()"
   ]
  },
  {
   "cell_type": "code",
   "execution_count": 11,
   "id": "reflected-associate",
   "metadata": {},
   "outputs": [],
   "source": [
    "cursor.execute('select * from profile;')"
   ]
  },
  {
   "cell_type": "code",
   "execution_count": 12,
   "id": "contrary-parade",
   "metadata": {},
   "outputs": [],
   "source": [
    "all_labels = cursor.fetchall()"
   ]
  },
  {
   "cell_type": "code",
   "execution_count": 13,
   "id": "stretch-harmony",
   "metadata": {},
   "outputs": [
    {
     "name": "stdout",
     "output_type": "stream",
     "text": [
      "105 4\n"
     ]
    }
   ],
   "source": [
    "print(len(all_images),len(all_labels))"
   ]
  },
  {
   "cell_type": "code",
   "execution_count": 140,
   "id": "regulation-color",
   "metadata": {},
   "outputs": [],
   "source": [
    "face_dataset = []\n",
    "labels = []\n",
    "\n",
    "ranges = []"
   ]
  },
  {
   "cell_type": "markdown",
   "id": "collectible-wheat",
   "metadata": {},
   "source": [
    "Labeling :\n",
    "1) Mainting a list of labels extracted from the database.\n",
    "<br>2) Making numeric_labels based on the size of image frames for a single label."
   ]
  },
  {
   "cell_type": "code",
   "execution_count": 141,
   "id": "satisfactory-devon",
   "metadata": {},
   "outputs": [],
   "source": [
    "# 1\n",
    "for cur in all_labels:\n",
    "    labels.append(cur[1])\n",
    "    ranges.append((cur[2],cur[3]))"
   ]
  },
  {
   "cell_type": "code",
   "execution_count": 142,
   "id": "absent-telling",
   "metadata": {},
   "outputs": [],
   "source": [
    "# 2\n",
    "face_labels = []\n",
    "cnt = 0\n",
    "for start,end in ranges:\n",
    "    size = end-start\n",
    "    face_labels.append(cnt*np.ones(size))\n",
    "    cnt += 1"
   ]
  },
  {
   "cell_type": "code",
   "execution_count": null,
   "id": "dress-duplicate",
   "metadata": {},
   "outputs": [],
   "source": [
    "'''\n",
    "Had to make dtype as int64 to receive the correct amount of data\n",
    "'''"
   ]
  },
  {
   "cell_type": "code",
   "execution_count": 143,
   "id": "sticky-freight",
   "metadata": {},
   "outputs": [],
   "source": [
    "for cur in all_images:\n",
    "    cur_face = cur[1]\n",
    "    cur_face = np.frombuffer(cur_face,dtype = 'int64')\n",
    "    face_dataset.append(cur_face)"
   ]
  },
  {
   "cell_type": "code",
   "execution_count": 144,
   "id": "comparable-baptist",
   "metadata": {},
   "outputs": [],
   "source": [
    "face_dataset = np.concatenate(face_dataset,axis = 0)"
   ]
  },
  {
   "cell_type": "code",
   "execution_count": 145,
   "id": "different-farming",
   "metadata": {},
   "outputs": [],
   "source": [
    "face_dataset = np.reshape(face_dataset,(len(all_images),-1))"
   ]
  },
  {
   "cell_type": "code",
   "execution_count": 146,
   "id": "colonial-testing",
   "metadata": {},
   "outputs": [],
   "source": [
    "face_labels = np.concatenate(face_labels,axis = 0)"
   ]
  },
  {
   "cell_type": "code",
   "execution_count": 157,
   "id": "assisted-prospect",
   "metadata": {},
   "outputs": [],
   "source": [
    "violators = {}"
   ]
  },
  {
   "cell_type": "code",
   "execution_count": 158,
   "id": "flush-scott",
   "metadata": {},
   "outputs": [],
   "source": [
    "names = {}\n",
    "for idx in range(len(labels)):\n",
    "    names[idx] = labels[idx]"
   ]
  },
  {
   "cell_type": "code",
   "execution_count": 159,
   "id": "convinced-transcript",
   "metadata": {},
   "outputs": [],
   "source": [
    "cap = cv2.VideoCapture(0)\n",
    "face_cascade = cv2.CascadeClassifier(\"haarcascade_frontalface_alt.xml\")  \n",
    "\n",
    "while True:\n",
    "    ret,frame = cap.read()\n",
    "    if ret == False:\n",
    "        continue\n",
    "        \n",
    "    gray_frame = cv2.cvtColor(frame,cv2.COLOR_BGR2GRAY)\n",
    "    faces = face_cascade.detectMultiScale(gray_frame,1.3,3)\n",
    "    \n",
    "    if len(faces) == 0:\n",
    "        continue\n",
    "        \n",
    "    faces = sorted(faces,key=lambda cur_face: cur_face[2]*cur_face[3],reverse=True)\n",
    "    face = faces[0]\n",
    "    x,y,w,h = face\n",
    "        \n",
    "    cv2.rectangle(gray_frame,(x,y),(x+w,y+h),(255,255,255),3)\n",
    "        \n",
    "    roi_frame = gray_frame[y:y+h , x:x+w]\n",
    "    roi_frame = cv2.resize(roi_frame,(200,200))\n",
    "    \n",
    "    test = np.asarray(roi_frame).reshape((-1,))\n",
    "    output = KNN(5,face_dataset,test,face_labels)\n",
    "    \n",
    "    if names[output] not in violators:\n",
    "        violators[names[output]] = 1 \n",
    "        \n",
    "    cv2.putText(gray_frame,names[output],(x,y-10),cv2.FONT_HERSHEY_COMPLEX,1,(255,255,255),2,cv2.LINE_AA)\n",
    "    \n",
    "    cv2.imshow(\"gray\",gray_frame)\n",
    "        \n",
    "    key_pressed = cv2.waitKey(1) & 0xFF\n",
    "    if key_pressed == ord('s'):\n",
    "        break\n",
    "            \n",
    "cap.release()\n",
    "cv2.destroyAllWindows()"
   ]
  },
  {
   "cell_type": "code",
   "execution_count": 160,
   "id": "organizational-agreement",
   "metadata": {},
   "outputs": [],
   "source": [
    "from datetime import date\n",
    "today = date.today()"
   ]
  },
  {
   "cell_type": "code",
   "execution_count": 161,
   "id": "conventional-collins",
   "metadata": {},
   "outputs": [],
   "source": [
    "with open('VIOLATORS','w+') as f:\n",
    "    f.seek(0)\n",
    "    f.write('VIOLATORS FOR ' + str(today)+'\\n')\n",
    "    \n",
    "    cnt = 1\n",
    "    for cur in violators.keys():\n",
    "        f.write(str(cnt) + '.' + str(cur) +'\\n')\n",
    "        cnt += 1"
   ]
  }
 ],
 "metadata": {
  "kernelspec": {
   "display_name": "Python 3",
   "language": "python",
   "name": "python3"
  },
  "language_info": {
   "codemirror_mode": {
    "name": "ipython",
    "version": 3
   },
   "file_extension": ".py",
   "mimetype": "text/x-python",
   "name": "python",
   "nbconvert_exporter": "python",
   "pygments_lexer": "ipython3",
   "version": "3.9.1"
  }
 },
 "nbformat": 4,
 "nbformat_minor": 5
}
