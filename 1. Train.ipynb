{
 "cells": [
  {
   "cell_type": "code",
   "execution_count": 1,
   "id": "annual-heaven",
   "metadata": {},
   "outputs": [],
   "source": [
    "import cv2 \n",
    "import numpy as np"
   ]
  },
  {
   "cell_type": "code",
   "execution_count": 2,
   "id": "surface-apple",
   "metadata": {},
   "outputs": [],
   "source": [
    "cap = cv2.VideoCapture(0)\n",
    "face_cascade = cv2.CascadeClassifier(\"haarcascade_frontalface_alt.xml\")  "
   ]
  },
  {
   "cell_type": "code",
   "execution_count": 3,
   "id": "improving-coupon",
   "metadata": {},
   "outputs": [
    {
     "name": "stdout",
     "output_type": "stream",
     "text": [
      "Enter name of the person:vikrant\n"
     ]
    }
   ],
   "source": [
    "name = str(input('Enter name of the person:'))\n",
    "Roi = []\n",
    "frame_count = 1 \n",
    "while True:\n",
    "    ret,frame = cap.read()\n",
    "    if ret == False:\n",
    "        continue\n",
    "        \n",
    "    gray_frame = cv2.cvtColor(frame,cv2.COLOR_BGR2GRAY)\n",
    "    faces = face_cascade.detectMultiScale(gray_frame,1.3,3)\n",
    "    \n",
    "    if len(faces) == 0:\n",
    "            continue\n",
    "        \n",
    "    faces = sorted(faces,key=lambda cur_face: cur_face[2]*cur_face[3],reverse=True)\n",
    "    face = faces[0]\n",
    "    x,y,w,h = face\n",
    "        \n",
    "    frame_count+=1\n",
    "        \n",
    "    cv2.rectangle(gray_frame,(x,y),(x+w,y+h),(255,255,255),3)\n",
    "        \n",
    "    roi_frame = gray_frame[y:y+h , x:x+w]\n",
    "    roi_frame = cv2.resize(roi_frame,(200,200))\n",
    "    \n",
    "    if frame_count %20 == 0:\n",
    "        Roi.append(roi_frame)\n",
    "    \n",
    "    cv2.imshow(\"gray\",gray_frame)\n",
    "    cv2.imshow(\"Region of interest\",roi_frame)\n",
    "        \n",
    "    key_pressed = cv2.waitKey(1) & 0xFF\n",
    "    if key_pressed == ord('s'):\n",
    "        break\n",
    "            \n",
    "cap.release()\n",
    "cv2.destroyAllWindows()"
   ]
  },
  {
   "cell_type": "code",
   "execution_count": 4,
   "id": "fuzzy-wrong",
   "metadata": {},
   "outputs": [],
   "source": [
    "# Now, we store the frames of region of interest of the person in numpy array.\n",
    "data = np.asarray(Roi)"
   ]
  },
  {
   "cell_type": "code",
   "execution_count": 5,
   "id": "sapphire-forestry",
   "metadata": {},
   "outputs": [
    {
     "data": {
      "text/plain": [
       "(22, 200, 200)"
      ]
     },
     "execution_count": 5,
     "metadata": {},
     "output_type": "execute_result"
    }
   ],
   "source": [
    "'''\n",
    "This means that there are 24 frames, \n",
    "each of 200 x 200 x 3 \n",
    "'''\n",
    "data.shape "
   ]
  },
  {
   "cell_type": "code",
   "execution_count": 6,
   "id": "coated-savage",
   "metadata": {},
   "outputs": [],
   "source": [
    "reshaped_data = data.reshape(data.shape[0],-1)"
   ]
  },
  {
   "cell_type": "code",
   "execution_count": 7,
   "id": "blind-stone",
   "metadata": {},
   "outputs": [],
   "source": [
    "import pandas as pd \n",
    "table = pd.DataFrame(reshaped_data)\n",
    "table.to_csv('./image_dataset/'+name)"
   ]
  }
 ],
 "metadata": {
  "kernelspec": {
   "display_name": "Python 3",
   "language": "python",
   "name": "python3"
  },
  "language_info": {
   "codemirror_mode": {
    "name": "ipython",
    "version": 3
   },
   "file_extension": ".py",
   "mimetype": "text/x-python",
   "name": "python",
   "nbconvert_exporter": "python",
   "pygments_lexer": "ipython3",
   "version": "3.9.1"
  }
 },
 "nbformat": 4,
 "nbformat_minor": 5
}
